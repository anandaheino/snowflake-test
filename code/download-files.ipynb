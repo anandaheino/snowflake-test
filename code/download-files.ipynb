{
 "cells": [
  {
   "cell_type": "markdown",
   "metadata": {},
   "source": [
    "# Trying `Snowflake` platform\n",
    "- november/2022\n",
    "- by: [Ananda Coelho](https://github.com/anandaheino)\n",
    "- **Downloading all files from [link](https://s3.amazonaws.com/tripdata/index.html)**"
   ]
  },
  {
   "cell_type": "code",
   "execution_count": 16,
   "metadata": {},
   "outputs": [],
   "source": [
    "import pandas as pd\n",
    "from bs4 import BeautifulSoup\n",
    "from urllib.request import urlopen\n",
    "from requests import get\n",
    "from zipfile import ZipFile\n",
    "from io import BytesIO\n",
    "from time import sleep"
   ]
  },
  {
   "cell_type": "code",
   "execution_count": 2,
   "metadata": {},
   "outputs": [
    {
     "data": {
      "text/plain": [
       "['https://s3.amazonaws.com/tripdata/JC-201509-citibike-tripdata.csv.zip',\n",
       " 'https://s3.amazonaws.com/tripdata/JC-201510-citibike-tripdata.csv.zip']"
      ]
     },
     "execution_count": 2,
     "metadata": {},
     "output_type": "execute_result"
    }
   ],
   "source": [
    "url = 'https://s3.amazonaws.com/tripdata/'\n",
    "html = urlopen(url).read()\n",
    "citi_bike_files = [url + file.get_text() for file in BeautifulSoup(html, 'xml').find_all('Key') if 'JC' in file.get_text()]\n",
    "citi_bike_files[:2]\n"
   ]
  },
  {
   "cell_type": "code",
   "execution_count": 19,
   "metadata": {},
   "outputs": [],
   "source": [
    "for csv_link in citi_bike_files:\n",
    "    response = get(csv_link, stream=True).content\n",
    "    ZipFile(BytesIO(response)).extractall('../data/zip')\n",
    "    sleep(10)"
   ]
  },
  {
   "cell_type": "markdown",
   "metadata": {},
   "source": [
    "***\n",
    "***\n",
    "[Inserir diversos arquivos CSV da pasta local para o BD no Snowflake](https://docs.snowflake.com/en/user-guide/data-load-internal-tutorial.html)"
   ]
  },
  {
   "cell_type": "markdown",
   "metadata": {},
   "source": [
    "[Instalação do CLI](https://docs.snowflake.com/en/user-guide/snowsql.html)\n",
    "\n",
    "1) Primeiro comando SNOW CLI\n",
    "   snowsql -a <account> -u <username>\n",
    "   account: <account_link> \n",
    "   username: ananda\n",
    "   password:\n",
    "\n",
    "2) criar um warehouse e um database pelo site da snowflake (logado na mesma conta)\n",
    "\n",
    "3) Voltar no CLI e passar o comando para usar o warehouse e o Database criados: \n",
    "   anandahhc#(no warehouse)@(no database).(no schema)>\n",
    "\tuse warehouse FULL_LOAD;\n",
    "\tuse database citibike;\n",
    "\n",
    "4) Criar um formato de arquivo a ser lido:\n",
    "      create or replace file format csv\n",
    "      type = csv\n",
    "      field_delimiter = ','\n",
    "      skip_header = 1\n",
    "      null_if = ('NULL', 'null')\n",
    "      empty_field_as_null = true\n",
    "      ;\n",
    "\n",
    "5) Criar um tabela para armazenar os dados dentro do database:\n",
    "\n",
    "\tcreate or replace table JC_tripdata (\n",
    "   Trip_Duration number,\n",
    "   Start_Time date,\n",
    "   Stop_Time date,\n",
    "   Start_Station_ID varchar,\n",
    "   Start_Station_Name varchar,\n",
    "   Start_Station_Latitude varchar,\n",
    "   Start_Station_Longitude varchar,\n",
    "   End_Station_ID varchar,\n",
    "   End_Station_Name varchar,\n",
    "   End_Station_Latitude varchar,\n",
    "   End_Station_Longitude varchar,\n",
    "   Bike_ID varchar,\n",
    "   User_Type varchar,\n",
    "   Birth_Year integer,\n",
    "   Gender integer\n",
    "   );\n",
    "\n",
    "6) a) adicionar um arquivo da pasta local para o stage do banco:\n",
    "\n",
    "\tput file://C:\\Users\\ananda.coelho\\Documents\\Snowflake-citibike-test\\dat\n",
    "   a\\JC-20161-citibike-tripdata.csv @CITIBIKE.PUBLIC.%JC_tripdata;\n",
    "\n",
    "b) adicionar mais de um arquivo da pasta local para o stage do banco, colocamos * onde varia:\n",
    "\n",
    "\tput file://C:\\Users\\ananda.coelho\\Documents\\Snowflake-citibike-test\\dat\n",
    "   a\\*-citibike-tripdata.csv @CITIBIKE.PUBLIC.%JC_tripdata;\n",
    "\n",
    "> 83 Row(s) produced. Time Elapsed: 56.713s\n",
    "\n",
    "7) copiando o arquivo do stage para a tabela: (mesmo nome que está no target)\n",
    "\tcopy into jc_tripdata\n",
    "   from @%jc_tripdata\n",
    "   file_format = (format_name = csv, error_on_column_count_mismatch = false)\n",
    "   pattern = 'JC-20161-citibike-tripdata.csv.gz'\n",
    "   on_error = 'skip_file';\n",
    "\n",
    "ou \n",
    "\tcopy into JC_TRIPDATA\n",
    "   from @%jc_tripdata\n",
    "   file_format = (format_name = csv, error_on_column_count_mismatch = false)\n",
    "   pattern = '.*-citibike-tripdata.csv.gz'\n",
    "   on_error = 'skip_file';\n",
    "\n",
    "> 83 Row(s) produced. Time Elapsed: 4.651s\n",
    "\n",
    "---\n",
    "---"
   ]
  }
 ],
 "metadata": {
  "kernelspec": {
   "display_name": "Python 3.10.6 ('scraping')",
   "language": "python",
   "name": "python3"
  },
  "language_info": {
   "codemirror_mode": {
    "name": "ipython",
    "version": 3
   },
   "file_extension": ".py",
   "mimetype": "text/x-python",
   "name": "python",
   "nbconvert_exporter": "python",
   "pygments_lexer": "ipython3",
   "version": "3.10.6"
  },
  "orig_nbformat": 4,
  "vscode": {
   "interpreter": {
    "hash": "5de2ff96bf5f16bc50b3b653e096a638a5b25fec67dcde8db660cabc10edac27"
   }
  }
 },
 "nbformat": 4,
 "nbformat_minor": 2
}
