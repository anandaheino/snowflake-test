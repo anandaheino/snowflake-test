{
 "cells": [
  {
   "cell_type": "markdown",
   "metadata": {},
   "source": [
    "# Trying `Snowflake` platform\n",
    "- november/2022\n",
    "- by: [Ananda Coelho](https://github.com/anandaheino)\n",
    "- **Downloading all files from [link](https://s3.amazonaws.com/tripdata/index.html)**"
   ]
  },
  {
   "cell_type": "code",
   "execution_count": 16,
   "metadata": {},
   "outputs": [],
   "source": [
    "import pandas as pd\n",
    "from bs4 import BeautifulSoup\n",
    "from urllib.request import urlopen\n",
    "from requests import get\n",
    "from zipfile import ZipFile\n",
    "from io import BytesIO\n",
    "from time import sleep"
   ]
  },
  {
   "cell_type": "code",
   "execution_count": 2,
   "metadata": {},
   "outputs": [
    {
     "data": {
      "text/plain": [
       "['https://s3.amazonaws.com/tripdata/JC-201509-citibike-tripdata.csv.zip',\n",
       " 'https://s3.amazonaws.com/tripdata/JC-201510-citibike-tripdata.csv.zip']"
      ]
     },
     "execution_count": 2,
     "metadata": {},
     "output_type": "execute_result"
    }
   ],
   "source": [
    "url = 'https://s3.amazonaws.com/tripdata/'\n",
    "html = urlopen(url).read()\n",
    "citi_bike_files = [url + file.get_text() for file in BeautifulSoup(html, 'xml').find_all('Key') if 'JC' in file.get_text()]\n",
    "citi_bike_files[:2]\n"
   ]
  },
  {
   "cell_type": "code",
   "execution_count": 19,
   "metadata": {},
   "outputs": [],
   "source": [
    "for csv_link in citi_bike_files:\n",
    "    response = get(csv_link, stream=True).content\n",
    "    ZipFile(BytesIO(response)).extractall('../data/zip')\n",
    "    sleep(10)"
   ]
  }
 ],
 "metadata": {
  "kernelspec": {
   "display_name": "Python 3.10.6 ('scraping')",
   "language": "python",
   "name": "python3"
  },
  "language_info": {
   "codemirror_mode": {
    "name": "ipython",
    "version": 3
   },
   "file_extension": ".py",
   "mimetype": "text/x-python",
   "name": "python",
   "nbconvert_exporter": "python",
   "pygments_lexer": "ipython3",
   "version": "3.10.6"
  },
  "orig_nbformat": 4,
  "vscode": {
   "interpreter": {
    "hash": "5de2ff96bf5f16bc50b3b653e096a638a5b25fec67dcde8db660cabc10edac27"
   }
  }
 },
 "nbformat": 4,
 "nbformat_minor": 2
}
